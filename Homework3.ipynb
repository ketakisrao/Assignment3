{
 "cells": [
  {
   "cell_type": "code",
   "execution_count": 404,
   "metadata": {},
   "outputs": [],
   "source": [
    "import pandas\n",
    "import sklearn\n",
    "from sklearn.model_selection import train_test_split\n",
    "from sklearn.metrics import classification_report\n",
    "from sklearn.metrics import confusion_matrix\n",
    "from sklearn import preprocessing"
   ]
  },
  {
   "cell_type": "code",
   "execution_count": 405,
   "metadata": {},
   "outputs": [],
   "source": [
    "from sklearn.linear_model import LogisticRegression\n",
    "from sklearn.tree import DecisionTreeClassifier\n",
    "from sklearn.naive_bayes import GaussianNB\n",
    "from sklearn.neighbors import KNeighborsClassifier\n",
    "from sklearn.discriminant_analysis import LinearDiscriminantAnalysis\n",
    "from sklearn.svm import SVC\n",
    "from sklearn.ensemble import RandomForestClassifier"
   ]
  },
  {
   "cell_type": "code",
   "execution_count": 406,
   "metadata": {},
   "outputs": [],
   "source": [
    "df = pandas.read_csv('output.csv', low_memory=False)"
   ]
  },
  {
   "cell_type": "code",
   "execution_count": 407,
   "metadata": {},
   "outputs": [
    {
     "data": {
      "text/plain": [
       "array(['White', 'Black', 'Korean', 'Vietnamese', 'Indian',\n",
       "       'Native American', 'Hawaiian', 'Chinese', 'Japanese',\n",
       "       'other Asian or Pacific Islander', 'Filipino', 'Samoan',\n",
       "       'Guamanian'], dtype=object)"
      ]
     },
     "execution_count": 407,
     "metadata": {},
     "output_type": "execute_result"
    }
   ],
   "source": [
    "df['race'].unique()\n",
    "# df = df.sample(frac=1)"
   ]
  },
  {
   "cell_type": "code",
   "execution_count": 408,
   "metadata": {},
   "outputs": [],
   "source": [
    "features_cat = ['race', 'sex', 'relationship_status', 'education']\n",
    "features_num = ['age']\n",
    "\n",
    "X_cat = df[features_cat]\n",
    "X_num = df[features_num]\n",
    "enc = preprocessing.OneHotEncoder()\n",
    "enc.fit(X_cat)\n",
    "one_hot = enc.transform(X_cat)\n",
    "X_cat_proc = pandas.DataFrame(one_hot.toarray(), columns=enc.get_feature_names())"
   ]
  },
  {
   "cell_type": "code",
   "execution_count": 416,
   "metadata": {},
   "outputs": [],
   "source": [
    "# scaled = preprocessing.scale(X_num, with_mean=True, with_std=True)\n",
    "X_num_proc = X_num"
   ]
  },
  {
   "cell_type": "code",
   "execution_count": 417,
   "metadata": {},
   "outputs": [],
   "source": [
    "X = pandas.concat([X_num_proc, X_cat_proc], axis=1, sort=False)\n",
    "X = X.fillna(0)"
   ]
  },
  {
   "cell_type": "code",
   "execution_count": 418,
   "metadata": {},
   "outputs": [],
   "source": [
    "y = df['New_group']"
   ]
  },
  {
   "cell_type": "code",
   "execution_count": 419,
   "metadata": {},
   "outputs": [],
   "source": [
    "X_train, X_TEMP, y_train, y_TEMP = train_test_split(X, y, test_size=0.30) # split out into training 70% of our data\n",
    "X_validation, X_test, y_validation, y_test = train_test_split(X_TEMP, y_TEMP, test_size=0.50) # split out into validation 15% of our data and test 15% of our data"
   ]
  },
  {
   "cell_type": "code",
   "execution_count": 441,
   "metadata": {
    "scrolled": false
   },
   "outputs": [
    {
     "name": "stderr",
     "output_type": "stream",
     "text": [
      "/Users/ketakisrao/anaconda3/lib/python3.7/site-packages/sklearn/ensemble/forest.py:245: FutureWarning: The default value of n_estimators will change from 10 in version 0.20 to 100 in 0.22.\n",
      "  \"10 in version 0.20 to 100 in 0.22.\", FutureWarning)\n"
     ]
    },
    {
     "name": "stdout",
     "output_type": "stream",
     "text": [
      "Confusion matrix:\n",
      " [[1361  107 1535  113  262   48]\n",
      " [ 279  179 1333   40   85   26]\n",
      " [1170  242 2996  116  322   64]\n",
      " [ 413   70  970   44   72   18]\n",
      " [ 617   80  993   63  341   88]\n",
      " [ 237   55  441   30  128   62]]\n",
      "\n",
      "Report:\n",
      "                       precision    recall  f1-score   support\n",
      "\n",
      "              Cancer       0.33      0.40      0.36      3426\n",
      "Congenital Anomalies       0.24      0.09      0.13      1942\n",
      "       Heart Disease       0.36      0.61      0.45      4910\n",
      "    Issues Breathing       0.11      0.03      0.04      1587\n",
      "       Organ Failure       0.28      0.16      0.20      2182\n",
      "               Other       0.20      0.07      0.10       953\n",
      "\n",
      "            accuracy                           0.33     15000\n",
      "           macro avg       0.26      0.22      0.22     15000\n",
      "        weighted avg       0.29      0.33      0.29     15000\n",
      "\n"
     ]
    }
   ],
   "source": [
    "# helper method to print basic model metrics\n",
    "def metrics(y_true, y_pred):\n",
    "    print('Confusion matrix:\\n', confusion_matrix(y_true, y_pred))\n",
    "    # target_names = ['denied', 'approved']\n",
    "    print('\\nReport:\\n', classification_report(y_true, y_pred))\n",
    "\n",
    "    \n",
    "logistic_regression = LogisticRegression(solver='lbfgs', multi_class='multinomial', max_iter=250)\n",
    "decision_tree_classifier = DecisionTreeClassifier()\n",
    "naive_bayes = GaussianNB()\n",
    "knn = KNeighborsClassifier()\n",
    "lda = LinearDiscriminantAnalysis()\n",
    "random_forest = RandomForestClassifier(bootstrap=True);\n",
    "\n",
    "model = random_forest.fit(X_train, y_train) # first fit (train) the model\n",
    "y_pred = model.predict(X_validation) # next get the model's predictions for a sample in the validation set\n",
    "metrics(y_validation, y_pred)"
   ]
  },
  {
   "cell_type": "code",
   "execution_count": 443,
   "metadata": {
    "scrolled": false
   },
   "outputs": [
    {
     "data": {
      "text/html": [
       "<div>\n",
       "<style scoped>\n",
       "    .dataframe tbody tr th:only-of-type {\n",
       "        vertical-align: middle;\n",
       "    }\n",
       "\n",
       "    .dataframe tbody tr th {\n",
       "        vertical-align: top;\n",
       "    }\n",
       "\n",
       "    .dataframe thead th {\n",
       "        text-align: right;\n",
       "    }\n",
       "</style>\n",
       "<table border=\"1\" class=\"dataframe\">\n",
       "  <thead>\n",
       "    <tr style=\"text-align: right;\">\n",
       "      <th></th>\n",
       "      <th>age</th>\n",
       "      <th>x0_Black</th>\n",
       "      <th>x0_Chinese</th>\n",
       "      <th>x0_Filipino</th>\n",
       "      <th>x0_Guamanian</th>\n",
       "      <th>x0_Hawaiian</th>\n",
       "      <th>x0_Indian</th>\n",
       "      <th>x0_Japanese</th>\n",
       "      <th>x0_Korean</th>\n",
       "      <th>x0_Native American</th>\n",
       "      <th>...</th>\n",
       "      <th>x2_Widowed</th>\n",
       "      <th>x3_1.0</th>\n",
       "      <th>x3_2.0</th>\n",
       "      <th>x3_3.0</th>\n",
       "      <th>x3_4.0</th>\n",
       "      <th>x3_5.0</th>\n",
       "      <th>x3_6.0</th>\n",
       "      <th>x3_7.0</th>\n",
       "      <th>x3_8.0</th>\n",
       "      <th>x3_9.0</th>\n",
       "    </tr>\n",
       "  </thead>\n",
       "  <tbody>\n",
       "    <tr>\n",
       "      <th>0</th>\n",
       "      <td>20</td>\n",
       "      <td>1.0</td>\n",
       "      <td>0.0</td>\n",
       "      <td>0.0</td>\n",
       "      <td>0.0</td>\n",
       "      <td>0.0</td>\n",
       "      <td>0.0</td>\n",
       "      <td>0.0</td>\n",
       "      <td>0.0</td>\n",
       "      <td>0.0</td>\n",
       "      <td>...</td>\n",
       "      <td>0.0</td>\n",
       "      <td>0.0</td>\n",
       "      <td>0.0</td>\n",
       "      <td>0.0</td>\n",
       "      <td>0.0</td>\n",
       "      <td>0.0</td>\n",
       "      <td>1.0</td>\n",
       "      <td>0.0</td>\n",
       "      <td>0.0</td>\n",
       "      <td>0.0</td>\n",
       "    </tr>\n",
       "    <tr>\n",
       "      <th>1</th>\n",
       "      <td>72</td>\n",
       "      <td>0.0</td>\n",
       "      <td>0.0</td>\n",
       "      <td>0.0</td>\n",
       "      <td>0.0</td>\n",
       "      <td>0.0</td>\n",
       "      <td>0.0</td>\n",
       "      <td>0.0</td>\n",
       "      <td>0.0</td>\n",
       "      <td>0.0</td>\n",
       "      <td>...</td>\n",
       "      <td>1.0</td>\n",
       "      <td>0.0</td>\n",
       "      <td>0.0</td>\n",
       "      <td>1.0</td>\n",
       "      <td>0.0</td>\n",
       "      <td>0.0</td>\n",
       "      <td>0.0</td>\n",
       "      <td>0.0</td>\n",
       "      <td>0.0</td>\n",
       "      <td>0.0</td>\n",
       "    </tr>\n",
       "    <tr>\n",
       "      <th>2</th>\n",
       "      <td>36</td>\n",
       "      <td>0.0</td>\n",
       "      <td>0.0</td>\n",
       "      <td>0.0</td>\n",
       "      <td>0.0</td>\n",
       "      <td>1.0</td>\n",
       "      <td>0.0</td>\n",
       "      <td>0.0</td>\n",
       "      <td>0.0</td>\n",
       "      <td>0.0</td>\n",
       "      <td>...</td>\n",
       "      <td>0.0</td>\n",
       "      <td>0.0</td>\n",
       "      <td>0.0</td>\n",
       "      <td>0.0</td>\n",
       "      <td>0.0</td>\n",
       "      <td>1.0</td>\n",
       "      <td>0.0</td>\n",
       "      <td>0.0</td>\n",
       "      <td>0.0</td>\n",
       "      <td>0.0</td>\n",
       "    </tr>\n",
       "  </tbody>\n",
       "</table>\n",
       "<p>3 rows × 30 columns</p>\n",
       "</div>"
      ],
      "text/plain": [
       "   age  x0_Black  x0_Chinese  x0_Filipino  x0_Guamanian  x0_Hawaiian  \\\n",
       "0   20       1.0         0.0          0.0           0.0          0.0   \n",
       "1   72       0.0         0.0          0.0           0.0          0.0   \n",
       "2   36       0.0         0.0          0.0           0.0          1.0   \n",
       "\n",
       "   x0_Indian  x0_Japanese  x0_Korean  x0_Native American  ...  x2_Widowed  \\\n",
       "0        0.0          0.0        0.0                 0.0  ...         0.0   \n",
       "1        0.0          0.0        0.0                 0.0  ...         1.0   \n",
       "2        0.0          0.0        0.0                 0.0  ...         0.0   \n",
       "\n",
       "   x3_1.0  x3_2.0  x3_3.0  x3_4.0  x3_5.0  x3_6.0  x3_7.0  x3_8.0  x3_9.0  \n",
       "0     0.0     0.0     0.0     0.0     0.0     1.0     0.0     0.0     0.0  \n",
       "1     0.0     0.0     1.0     0.0     0.0     0.0     0.0     0.0     0.0  \n",
       "2     0.0     0.0     0.0     0.0     1.0     0.0     0.0     0.0     0.0  \n",
       "\n",
       "[3 rows x 30 columns]"
      ]
     },
     "execution_count": 443,
     "metadata": {},
     "output_type": "execute_result"
    }
   ],
   "source": [
    "predict_data_cat = [['Black', 'M', 'Single', 6], ['White', 'M', 'Widowed', 3], ['Hawaiian', 'F', 'Married', 5]]\n",
    "#['Black', 'M', 'Single'], ['White', 'M', 'Widowed'], ['Hawaiian', 'F', 'Married']\n",
    "#[20, 6], [72, 3], [36, 5]\n",
    "predict_data_num = [[20], [72], [36]]\n",
    "\n",
    "Y = enc.transform(predict_data_cat)\n",
    "Y = pandas.DataFrame(Y.toarray(), columns=enc.get_feature_names())\n",
    "\n",
    "\n",
    "# s = preprocessing.scale(predict_data_num)\n",
    "s = pandas.DataFrame(predict_data_num, columns=features_num)\n",
    "# s = X_num\n",
    "Y = s.join(Y)\n",
    "Y.head()"
   ]
  },
  {
   "cell_type": "code",
   "execution_count": 444,
   "metadata": {
    "scrolled": true
   },
   "outputs": [
    {
     "name": "stdout",
     "output_type": "stream",
     "text": [
      "['Organ Failure' 'Heart Disease' 'Heart Disease']\n"
     ]
    }
   ],
   "source": [
    "predictions = model.predict(Y)\n",
    "print(predictions)"
   ]
  },
  {
   "cell_type": "code",
   "execution_count": 445,
   "metadata": {},
   "outputs": [],
   "source": [
    "import pickle"
   ]
  },
  {
   "cell_type": "code",
   "execution_count": 446,
   "metadata": {},
   "outputs": [],
   "source": [
    "with open('deaths_model', 'wb') as f:\n",
    "    pickle.dump(model, f)"
   ]
  },
  {
   "cell_type": "code",
   "execution_count": 447,
   "metadata": {},
   "outputs": [],
   "source": [
    "with open('deaths_model', 'rb') as f:\n",
    "    model2 = pickle.load(f)"
   ]
  },
  {
   "cell_type": "code",
   "execution_count": 448,
   "metadata": {},
   "outputs": [
    {
     "data": {
      "text/plain": [
       "array(['Organ Failure', 'Heart Disease', 'Heart Disease'], dtype=object)"
      ]
     },
     "execution_count": 448,
     "metadata": {},
     "output_type": "execute_result"
    }
   ],
   "source": [
    "model2.predict(Y)"
   ]
  },
  {
   "cell_type": "code",
   "execution_count": 449,
   "metadata": {},
   "outputs": [],
   "source": [
    "columns = list(X.columns)\n",
    "columns = columns[1:]\n",
    "with open('columns', 'wb') as file:\n",
    "    pickle.dump(columns, file)"
   ]
  },
  {
   "cell_type": "code",
   "execution_count": 450,
   "metadata": {},
   "outputs": [
    {
     "data": {
      "text/html": [
       "<div>\n",
       "<style scoped>\n",
       "    .dataframe tbody tr th:only-of-type {\n",
       "        vertical-align: middle;\n",
       "    }\n",
       "\n",
       "    .dataframe tbody tr th {\n",
       "        vertical-align: top;\n",
       "    }\n",
       "\n",
       "    .dataframe thead th {\n",
       "        text-align: right;\n",
       "    }\n",
       "</style>\n",
       "<table border=\"1\" class=\"dataframe\">\n",
       "  <thead>\n",
       "    <tr style=\"text-align: right;\">\n",
       "      <th></th>\n",
       "      <th>x0_Black</th>\n",
       "      <th>x0_Chinese</th>\n",
       "      <th>x0_Filipino</th>\n",
       "      <th>x0_Guamanian</th>\n",
       "      <th>x0_Hawaiian</th>\n",
       "      <th>x0_Indian</th>\n",
       "      <th>x0_Japanese</th>\n",
       "      <th>x0_Korean</th>\n",
       "      <th>x0_Native American</th>\n",
       "      <th>x0_Samoan</th>\n",
       "      <th>...</th>\n",
       "      <th>x2_Widowed</th>\n",
       "      <th>x3_1.0</th>\n",
       "      <th>x3_2.0</th>\n",
       "      <th>x3_3.0</th>\n",
       "      <th>x3_4.0</th>\n",
       "      <th>x3_5.0</th>\n",
       "      <th>x3_6.0</th>\n",
       "      <th>x3_7.0</th>\n",
       "      <th>x3_8.0</th>\n",
       "      <th>x3_9.0</th>\n",
       "    </tr>\n",
       "  </thead>\n",
       "  <tbody>\n",
       "    <tr>\n",
       "      <th>0</th>\n",
       "      <td>1.0</td>\n",
       "      <td>0</td>\n",
       "      <td>0</td>\n",
       "      <td>0</td>\n",
       "      <td>0.0</td>\n",
       "      <td>0</td>\n",
       "      <td>0</td>\n",
       "      <td>0</td>\n",
       "      <td>0</td>\n",
       "      <td>0</td>\n",
       "      <td>...</td>\n",
       "      <td>0.0</td>\n",
       "      <td>0</td>\n",
       "      <td>0</td>\n",
       "      <td>0</td>\n",
       "      <td>0</td>\n",
       "      <td>0</td>\n",
       "      <td>0</td>\n",
       "      <td>0</td>\n",
       "      <td>0</td>\n",
       "      <td>0</td>\n",
       "    </tr>\n",
       "    <tr>\n",
       "      <th>1</th>\n",
       "      <td>0.0</td>\n",
       "      <td>0</td>\n",
       "      <td>0</td>\n",
       "      <td>0</td>\n",
       "      <td>0.0</td>\n",
       "      <td>0</td>\n",
       "      <td>0</td>\n",
       "      <td>0</td>\n",
       "      <td>0</td>\n",
       "      <td>0</td>\n",
       "      <td>...</td>\n",
       "      <td>1.0</td>\n",
       "      <td>0</td>\n",
       "      <td>0</td>\n",
       "      <td>0</td>\n",
       "      <td>0</td>\n",
       "      <td>0</td>\n",
       "      <td>0</td>\n",
       "      <td>0</td>\n",
       "      <td>0</td>\n",
       "      <td>0</td>\n",
       "    </tr>\n",
       "    <tr>\n",
       "      <th>2</th>\n",
       "      <td>0.0</td>\n",
       "      <td>0</td>\n",
       "      <td>0</td>\n",
       "      <td>0</td>\n",
       "      <td>1.0</td>\n",
       "      <td>0</td>\n",
       "      <td>0</td>\n",
       "      <td>0</td>\n",
       "      <td>0</td>\n",
       "      <td>0</td>\n",
       "      <td>...</td>\n",
       "      <td>0.0</td>\n",
       "      <td>0</td>\n",
       "      <td>0</td>\n",
       "      <td>0</td>\n",
       "      <td>0</td>\n",
       "      <td>0</td>\n",
       "      <td>0</td>\n",
       "      <td>0</td>\n",
       "      <td>0</td>\n",
       "      <td>0</td>\n",
       "    </tr>\n",
       "  </tbody>\n",
       "</table>\n",
       "<p>3 rows × 29 columns</p>\n",
       "</div>"
      ],
      "text/plain": [
       "   x0_Black  x0_Chinese  x0_Filipino  x0_Guamanian  x0_Hawaiian  x0_Indian  \\\n",
       "0       1.0           0            0             0          0.0          0   \n",
       "1       0.0           0            0             0          0.0          0   \n",
       "2       0.0           0            0             0          1.0          0   \n",
       "\n",
       "   x0_Japanese  x0_Korean  x0_Native American  x0_Samoan  ...  x2_Widowed  \\\n",
       "0            0          0                   0          0  ...         0.0   \n",
       "1            0          0                   0          0  ...         1.0   \n",
       "2            0          0                   0          0  ...         0.0   \n",
       "\n",
       "   x3_1.0  x3_2.0  x3_3.0  x3_4.0  x3_5.0  x3_6.0  x3_7.0  x3_8.0  x3_9.0  \n",
       "0       0       0       0       0       0       0       0       0       0  \n",
       "1       0       0       0       0       0       0       0       0       0  \n",
       "2       0       0       0       0       0       0       0       0       0  \n",
       "\n",
       "[3 rows x 29 columns]"
      ]
     },
     "execution_count": 450,
     "metadata": {},
     "output_type": "execute_result"
    }
   ],
   "source": [
    "enc1 = preprocessing.OneHotEncoder()\n",
    "enc1.fit(predict_data_cat)\n",
    "one_hot1 = enc1.transform(predict_data_cat)\n",
    "X_cat_processed = pandas.DataFrame(one_hot1.toarray(), columns=enc1.get_feature_names())\n",
    "query = X_cat_processed.reindex(columns=columns, fill_value=0)\n",
    "query.head()"
   ]
  },
  {
   "cell_type": "code",
   "execution_count": 451,
   "metadata": {},
   "outputs": [
    {
     "data": {
      "text/html": [
       "<div>\n",
       "<style scoped>\n",
       "    .dataframe tbody tr th:only-of-type {\n",
       "        vertical-align: middle;\n",
       "    }\n",
       "\n",
       "    .dataframe tbody tr th {\n",
       "        vertical-align: top;\n",
       "    }\n",
       "\n",
       "    .dataframe thead th {\n",
       "        text-align: right;\n",
       "    }\n",
       "</style>\n",
       "<table border=\"1\" class=\"dataframe\">\n",
       "  <thead>\n",
       "    <tr style=\"text-align: right;\">\n",
       "      <th></th>\n",
       "      <th>age</th>\n",
       "      <th>x0_Black</th>\n",
       "      <th>x0_Chinese</th>\n",
       "      <th>x0_Filipino</th>\n",
       "      <th>x0_Guamanian</th>\n",
       "      <th>x0_Hawaiian</th>\n",
       "      <th>x0_Indian</th>\n",
       "      <th>x0_Japanese</th>\n",
       "      <th>x0_Korean</th>\n",
       "      <th>x0_Native American</th>\n",
       "      <th>...</th>\n",
       "      <th>x2_Widowed</th>\n",
       "      <th>x3_1.0</th>\n",
       "      <th>x3_2.0</th>\n",
       "      <th>x3_3.0</th>\n",
       "      <th>x3_4.0</th>\n",
       "      <th>x3_5.0</th>\n",
       "      <th>x3_6.0</th>\n",
       "      <th>x3_7.0</th>\n",
       "      <th>x3_8.0</th>\n",
       "      <th>x3_9.0</th>\n",
       "    </tr>\n",
       "  </thead>\n",
       "  <tbody>\n",
       "    <tr>\n",
       "      <th>0</th>\n",
       "      <td>20</td>\n",
       "      <td>1.0</td>\n",
       "      <td>0</td>\n",
       "      <td>0</td>\n",
       "      <td>0</td>\n",
       "      <td>0.0</td>\n",
       "      <td>0</td>\n",
       "      <td>0</td>\n",
       "      <td>0</td>\n",
       "      <td>0</td>\n",
       "      <td>...</td>\n",
       "      <td>0.0</td>\n",
       "      <td>0</td>\n",
       "      <td>0</td>\n",
       "      <td>0</td>\n",
       "      <td>0</td>\n",
       "      <td>0</td>\n",
       "      <td>0</td>\n",
       "      <td>0</td>\n",
       "      <td>0</td>\n",
       "      <td>0</td>\n",
       "    </tr>\n",
       "    <tr>\n",
       "      <th>1</th>\n",
       "      <td>72</td>\n",
       "      <td>0.0</td>\n",
       "      <td>0</td>\n",
       "      <td>0</td>\n",
       "      <td>0</td>\n",
       "      <td>0.0</td>\n",
       "      <td>0</td>\n",
       "      <td>0</td>\n",
       "      <td>0</td>\n",
       "      <td>0</td>\n",
       "      <td>...</td>\n",
       "      <td>1.0</td>\n",
       "      <td>0</td>\n",
       "      <td>0</td>\n",
       "      <td>0</td>\n",
       "      <td>0</td>\n",
       "      <td>0</td>\n",
       "      <td>0</td>\n",
       "      <td>0</td>\n",
       "      <td>0</td>\n",
       "      <td>0</td>\n",
       "    </tr>\n",
       "    <tr>\n",
       "      <th>2</th>\n",
       "      <td>36</td>\n",
       "      <td>0.0</td>\n",
       "      <td>0</td>\n",
       "      <td>0</td>\n",
       "      <td>0</td>\n",
       "      <td>1.0</td>\n",
       "      <td>0</td>\n",
       "      <td>0</td>\n",
       "      <td>0</td>\n",
       "      <td>0</td>\n",
       "      <td>...</td>\n",
       "      <td>0.0</td>\n",
       "      <td>0</td>\n",
       "      <td>0</td>\n",
       "      <td>0</td>\n",
       "      <td>0</td>\n",
       "      <td>0</td>\n",
       "      <td>0</td>\n",
       "      <td>0</td>\n",
       "      <td>0</td>\n",
       "      <td>0</td>\n",
       "    </tr>\n",
       "  </tbody>\n",
       "</table>\n",
       "<p>3 rows × 30 columns</p>\n",
       "</div>"
      ],
      "text/plain": [
       "   age  x0_Black  x0_Chinese  x0_Filipino  x0_Guamanian  x0_Hawaiian  \\\n",
       "0   20       1.0           0            0             0          0.0   \n",
       "1   72       0.0           0            0             0          0.0   \n",
       "2   36       0.0           0            0             0          1.0   \n",
       "\n",
       "   x0_Indian  x0_Japanese  x0_Korean  x0_Native American  ...  x2_Widowed  \\\n",
       "0          0            0          0                   0  ...         0.0   \n",
       "1          0            0          0                   0  ...         1.0   \n",
       "2          0            0          0                   0  ...         0.0   \n",
       "\n",
       "   x3_1.0  x3_2.0  x3_3.0  x3_4.0  x3_5.0  x3_6.0  x3_7.0  x3_8.0  x3_9.0  \n",
       "0       0       0       0       0       0       0       0       0       0  \n",
       "1       0       0       0       0       0       0       0       0       0  \n",
       "2       0       0       0       0       0       0       0       0       0  \n",
       "\n",
       "[3 rows x 30 columns]"
      ]
     },
     "execution_count": 451,
     "metadata": {},
     "output_type": "execute_result"
    }
   ],
   "source": [
    "s = pandas.DataFrame(predict_data_num, columns=features_num)\n",
    "query = pandas.concat([s, query], axis=1, sort=False)\n",
    "query.head()"
   ]
  },
  {
   "cell_type": "code",
   "execution_count": 452,
   "metadata": {},
   "outputs": [
    {
     "data": {
      "text/plain": [
       "array(['Other', 'Issues Breathing', 'Heart Disease'], dtype=object)"
      ]
     },
     "execution_count": 452,
     "metadata": {},
     "output_type": "execute_result"
    }
   ],
   "source": [
    "model2.predict(query)"
   ]
  },
  {
   "cell_type": "code",
   "execution_count": null,
   "metadata": {},
   "outputs": [],
   "source": []
  },
  {
   "cell_type": "code",
   "execution_count": null,
   "metadata": {},
   "outputs": [],
   "source": []
  }
 ],
 "metadata": {
  "kernelspec": {
   "display_name": "Python 3",
   "language": "python",
   "name": "python3"
  },
  "language_info": {
   "codemirror_mode": {
    "name": "ipython",
    "version": 3
   },
   "file_extension": ".py",
   "mimetype": "text/x-python",
   "name": "python",
   "nbconvert_exporter": "python",
   "pygments_lexer": "ipython3",
   "version": "3.7.3"
  }
 },
 "nbformat": 4,
 "nbformat_minor": 2
}
