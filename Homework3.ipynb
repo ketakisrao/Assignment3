{
 "cells": [
  {
   "cell_type": "code",
   "execution_count": 147,
   "metadata": {},
   "outputs": [],
   "source": [
    "import pandas\n",
    "import sklearn\n",
    "from sklearn.model_selection import train_test_split\n",
    "from sklearn.metrics import classification_report\n",
    "from sklearn.metrics import confusion_matrix\n",
    "from sklearn import preprocessing"
   ]
  },
  {
   "cell_type": "code",
   "execution_count": 148,
   "metadata": {},
   "outputs": [],
   "source": [
    "from sklearn.linear_model import LogisticRegression\n",
    "from sklearn.tree import DecisionTreeClassifier\n",
    "from sklearn.naive_bayes import GaussianNB\n",
    "from sklearn.neighbors import KNeighborsClassifier\n",
    "from sklearn.discriminant_analysis import LinearDiscriminantAnalysis\n",
    "from sklearn.svm import SVC\n",
    "from sklearn.ensemble import RandomForestClassifier"
   ]
  },
  {
   "cell_type": "code",
   "execution_count": 149,
   "metadata": {},
   "outputs": [],
   "source": [
    "df = pandas.read_csv('output.csv', low_memory=False)"
   ]
  },
  {
   "cell_type": "code",
   "execution_count": 150,
   "metadata": {},
   "outputs": [
    {
     "data": {
      "text/plain": [
       "(100000, 13)"
      ]
     },
     "execution_count": 150,
     "metadata": {},
     "output_type": "execute_result"
    }
   ],
   "source": [
    "df.shape"
   ]
  },
  {
   "cell_type": "code",
   "execution_count": 151,
   "metadata": {},
   "outputs": [],
   "source": [
    "features_cat = ['race', 'sex', 'relationship_status']\n",
    "features_num = ['age', 'education']\n",
    "\n",
    "X_cat = df[features_cat]\n",
    "X_num = df[features_num]\n",
    "enc = preprocessing.OneHotEncoder()\n",
    "enc.fit(X_cat)\n",
    "one_hot = enc.transform(X_cat)\n",
    "X_cat_proc = pandas.DataFrame(one_hot.toarray(), columns=enc.get_feature_names())"
   ]
  },
  {
   "cell_type": "code",
   "execution_count": 152,
   "metadata": {},
   "outputs": [],
   "source": [
    "scaled = preprocessing.scale(X_num, with_mean=True, with_std=True)\n",
    "X_num_proc = pandas.DataFrame(scaled, columns=features_num)"
   ]
  },
  {
   "cell_type": "code",
   "execution_count": 153,
   "metadata": {},
   "outputs": [],
   "source": [
    "X = pandas.concat([X_num_proc, X_cat_proc], axis=1, sort=False)\n",
    "X = X.fillna(0)"
   ]
  },
  {
   "cell_type": "code",
   "execution_count": 154,
   "metadata": {},
   "outputs": [],
   "source": [
    "y = df['New_group']"
   ]
  },
  {
   "cell_type": "code",
   "execution_count": 155,
   "metadata": {},
   "outputs": [],
   "source": [
    "X_train, X_TEMP, y_train, y_TEMP = train_test_split(X, y, test_size=0.30) # split out into training 70% of our data\n",
    "X_validation, X_test, y_validation, y_test = train_test_split(X_TEMP, y_TEMP, test_size=0.50) # split out into validation 15% of our data and test 15% of our data"
   ]
  },
  {
   "cell_type": "code",
   "execution_count": 156,
   "metadata": {},
   "outputs": [
    {
     "name": "stdout",
     "output_type": "stream",
     "text": [
      "Confusion matrix:\n",
      " [[   1   93    0    0    0   70  106    0    0    0    0]\n",
      " [   0 1334    0    0    0   20 2219    0    0    1    0]\n",
      " [   0   51    0    0    0   72  812    0    0    0    0]\n",
      " [   0  221    0    0    0   11  624    0    0    0    0]\n",
      " [   0  164    0    0    0    9  839    0    0    0    0]\n",
      " [   0  208    0    0    0   93  189    0    0    0    0]\n",
      " [   1  862    0    0    0   22 3905    0    0    0    0]\n",
      " [   0   67    0    0    0    1  208    0    0    0    0]\n",
      " [   0  266    0    0    0   14 1224    0    0    0    0]\n",
      " [   0  220    0    0    0    8  658    0    0    0    0]\n",
      " [   1   90    0    0    0    9  307    0    0    0    0]]\n"
     ]
    },
    {
     "name": "stderr",
     "output_type": "stream",
     "text": [
      "/Users/ketakisrao/anaconda3/lib/python3.7/site-packages/sklearn/metrics/classification.py:1437: UndefinedMetricWarning: Precision and F-score are ill-defined and being set to 0.0 in labels with no predicted samples.\n",
      "  'precision', 'predicted', average, warn_for)\n"
     ]
    },
    {
     "name": "stdout",
     "output_type": "stream",
     "text": [
      "\n",
      "Report:\n",
      "                                 precision    recall  f1-score   support\n",
      "\n",
      "                      Accident       0.33      0.00      0.01       270\n",
      "                        Cancer       0.37      0.37      0.37      3574\n",
      "          Congenital Anomalies       0.00      0.00      0.00       935\n",
      "                      Diabetes       0.00      0.00      0.00       856\n",
      "Diseases of the nervous system       0.00      0.00      0.00      1012\n",
      "                      Drug Use       0.28      0.19      0.23       490\n",
      "                 Heart Disease       0.35      0.82      0.49      4790\n",
      "                     Infection       0.00      0.00      0.00       276\n",
      "              Issues Breathing       0.00      0.00      0.00      1504\n",
      "                 Organ Failure       0.00      0.00      0.00       886\n",
      "                         Other       0.00      0.00      0.00       407\n",
      "\n",
      "                      accuracy                           0.36     15000\n",
      "                     macro avg       0.12      0.13      0.10     15000\n",
      "                  weighted avg       0.22      0.36      0.25     15000\n",
      "\n"
     ]
    }
   ],
   "source": [
    "# helper method to print basic model metrics\n",
    "def metrics(y_true, y_pred):\n",
    "    print('Confusion matrix:\\n', confusion_matrix(y_true, y_pred))\n",
    "    # target_names = ['denied', 'approved']\n",
    "    print('\\nReport:\\n', classification_report(y_true, y_pred))\n",
    "\n",
    "    \n",
    "logistic_regression = LogisticRegression(solver='lbfgs', multi_class='ovr', max_iter=250)\n",
    "decision_tree_classifier = DecisionTreeClassifier()\n",
    "naive_bayes = GaussianNB()\n",
    "knn = KNeighborsClassifier()\n",
    "lda = LinearDiscriminantAnalysis()\n",
    "random_forest = RandomForestClassifier(bootstrap=True);\n",
    "\n",
    "model = logistic_regression.fit(X_train, y_train) # first fit (train) the model\n",
    "y_pred = model.predict(X_validation) # next get the model's predictions for a sample in the validation set\n",
    "metrics(y_validation, y_pred)"
   ]
  },
  {
   "cell_type": "code",
   "execution_count": 96,
   "metadata": {
    "scrolled": false
   },
   "outputs": [],
   "source": [
    "predict_data_cat = [['Hawaiian', 'F', 'Married']]\n",
    "#['Black', 'M', 'Single'], ['White', 'M', 'Widowed'], ['Hawaiian', 'F', 'Married']\n",
    "#[20, 6], [72, 3], [36, 5]\n",
    "predict_data_num = [[36, 5]]\n",
    "\n",
    "Y = enc.transform(predict_data_cat)\n",
    "Y = pandas.DataFrame(Y.toarray(), columns=enc.get_feature_names())\n",
    "\n",
    "s = preprocessing.scale(predict_data_num)\n",
    "s = pandas.DataFrame(s, columns=features_num)\n",
    "Y = pandas.concat([s, Y], axis=1, sort=False)"
   ]
  },
  {
   "cell_type": "code",
   "execution_count": 97,
   "metadata": {
    "scrolled": true
   },
   "outputs": [
    {
     "name": "stdout",
     "output_type": "stream",
     "text": [
      "['Heart Disease']\n"
     ]
    }
   ],
   "source": [
    "predictions = model.predict(Y)\n",
    "print(predictions)"
   ]
  },
  {
   "cell_type": "code",
   "execution_count": 98,
   "metadata": {},
   "outputs": [],
   "source": [
    "import pickle"
   ]
  },
  {
   "cell_type": "code",
   "execution_count": 99,
   "metadata": {},
   "outputs": [],
   "source": [
    "with open('deaths_model', 'wb') as f:\n",
    "    pickle.dump(model, f)"
   ]
  },
  {
   "cell_type": "code",
   "execution_count": 100,
   "metadata": {},
   "outputs": [],
   "source": [
    "with open('deaths_model', 'rb') as f:\n",
    "    model2 = pickle.load(f)"
   ]
  },
  {
   "cell_type": "code",
   "execution_count": 101,
   "metadata": {},
   "outputs": [
    {
     "data": {
      "text/plain": [
       "array(['Heart Disease'], dtype='<U30')"
      ]
     },
     "execution_count": 101,
     "metadata": {},
     "output_type": "execute_result"
    }
   ],
   "source": [
    "model2.predict(Y)"
   ]
  },
  {
   "cell_type": "code",
   "execution_count": 102,
   "metadata": {},
   "outputs": [],
   "source": [
    "columns = list(X.columns)\n",
    "columns = columns[2:]\n",
    "with open('columns', 'wb') as file:\n",
    "    pickle.dump(columns, file)"
   ]
  },
  {
   "cell_type": "code",
   "execution_count": 103,
   "metadata": {},
   "outputs": [
    {
     "data": {
      "text/html": [
       "<div>\n",
       "<style scoped>\n",
       "    .dataframe tbody tr th:only-of-type {\n",
       "        vertical-align: middle;\n",
       "    }\n",
       "\n",
       "    .dataframe tbody tr th {\n",
       "        vertical-align: top;\n",
       "    }\n",
       "\n",
       "    .dataframe thead th {\n",
       "        text-align: right;\n",
       "    }\n",
       "</style>\n",
       "<table border=\"1\" class=\"dataframe\">\n",
       "  <thead>\n",
       "    <tr style=\"text-align: right;\">\n",
       "      <th></th>\n",
       "      <th>x0_Black</th>\n",
       "      <th>x0_Chinese</th>\n",
       "      <th>x0_Filipino</th>\n",
       "      <th>x0_Guamanian</th>\n",
       "      <th>x0_Hawaiian</th>\n",
       "      <th>x0_Indian</th>\n",
       "      <th>x0_Japanese</th>\n",
       "      <th>x0_Korean</th>\n",
       "      <th>x0_Native American</th>\n",
       "      <th>x0_Samoan</th>\n",
       "      <th>x0_Vietnamese</th>\n",
       "      <th>x0_White</th>\n",
       "      <th>x0_other Asian or Pacific Islander</th>\n",
       "      <th>x1_F</th>\n",
       "      <th>x1_M</th>\n",
       "      <th>x2_Divorced</th>\n",
       "      <th>x2_Married</th>\n",
       "      <th>x2_Single</th>\n",
       "      <th>x2_Unkown</th>\n",
       "      <th>x2_Widowed</th>\n",
       "    </tr>\n",
       "  </thead>\n",
       "  <tbody>\n",
       "    <tr>\n",
       "      <th>0</th>\n",
       "      <td>0</td>\n",
       "      <td>0</td>\n",
       "      <td>0</td>\n",
       "      <td>0</td>\n",
       "      <td>1.0</td>\n",
       "      <td>0</td>\n",
       "      <td>0</td>\n",
       "      <td>0</td>\n",
       "      <td>0</td>\n",
       "      <td>0</td>\n",
       "      <td>0</td>\n",
       "      <td>0</td>\n",
       "      <td>0</td>\n",
       "      <td>1.0</td>\n",
       "      <td>0</td>\n",
       "      <td>0</td>\n",
       "      <td>1.0</td>\n",
       "      <td>0</td>\n",
       "      <td>0</td>\n",
       "      <td>0</td>\n",
       "    </tr>\n",
       "  </tbody>\n",
       "</table>\n",
       "</div>"
      ],
      "text/plain": [
       "   x0_Black  x0_Chinese  x0_Filipino  x0_Guamanian  x0_Hawaiian  x0_Indian  \\\n",
       "0         0           0            0             0          1.0          0   \n",
       "\n",
       "   x0_Japanese  x0_Korean  x0_Native American  x0_Samoan  x0_Vietnamese  \\\n",
       "0            0          0                   0          0              0   \n",
       "\n",
       "   x0_White  x0_other Asian or Pacific Islander  x1_F  x1_M  x2_Divorced  \\\n",
       "0         0                                   0   1.0     0            0   \n",
       "\n",
       "   x2_Married  x2_Single  x2_Unkown  x2_Widowed  \n",
       "0         1.0          0          0           0  "
      ]
     },
     "execution_count": 103,
     "metadata": {},
     "output_type": "execute_result"
    }
   ],
   "source": [
    "# query = pandas.get_dummies(pandas.DataFrame(predict_data_cat))\n",
    "enc1 = preprocessing.OneHotEncoder()\n",
    "enc1.fit(predict_data_cat)\n",
    "one_hot1 = enc1.transform(predict_data_cat)\n",
    "X_cat_processed = pandas.DataFrame(one_hot1.toarray(), columns=enc1.get_feature_names())\n",
    "# X_cat_processed.head()\n",
    "query = X_cat_processed.reindex(columns=columns, fill_value=0)\n",
    "query.head()"
   ]
  },
  {
   "cell_type": "code",
   "execution_count": 104,
   "metadata": {},
   "outputs": [
    {
     "data": {
      "text/html": [
       "<div>\n",
       "<style scoped>\n",
       "    .dataframe tbody tr th:only-of-type {\n",
       "        vertical-align: middle;\n",
       "    }\n",
       "\n",
       "    .dataframe tbody tr th {\n",
       "        vertical-align: top;\n",
       "    }\n",
       "\n",
       "    .dataframe thead th {\n",
       "        text-align: right;\n",
       "    }\n",
       "</style>\n",
       "<table border=\"1\" class=\"dataframe\">\n",
       "  <thead>\n",
       "    <tr style=\"text-align: right;\">\n",
       "      <th></th>\n",
       "      <th>age</th>\n",
       "      <th>education</th>\n",
       "      <th>x0_Black</th>\n",
       "      <th>x0_Chinese</th>\n",
       "      <th>x0_Filipino</th>\n",
       "      <th>x0_Guamanian</th>\n",
       "      <th>x0_Hawaiian</th>\n",
       "      <th>x0_Indian</th>\n",
       "      <th>x0_Japanese</th>\n",
       "      <th>x0_Korean</th>\n",
       "      <th>...</th>\n",
       "      <th>x0_Vietnamese</th>\n",
       "      <th>x0_White</th>\n",
       "      <th>x0_other Asian or Pacific Islander</th>\n",
       "      <th>x1_F</th>\n",
       "      <th>x1_M</th>\n",
       "      <th>x2_Divorced</th>\n",
       "      <th>x2_Married</th>\n",
       "      <th>x2_Single</th>\n",
       "      <th>x2_Unkown</th>\n",
       "      <th>x2_Widowed</th>\n",
       "    </tr>\n",
       "  </thead>\n",
       "  <tbody>\n",
       "    <tr>\n",
       "      <th>0</th>\n",
       "      <td>0.0</td>\n",
       "      <td>0.0</td>\n",
       "      <td>0</td>\n",
       "      <td>0</td>\n",
       "      <td>0</td>\n",
       "      <td>0</td>\n",
       "      <td>1.0</td>\n",
       "      <td>0</td>\n",
       "      <td>0</td>\n",
       "      <td>0</td>\n",
       "      <td>...</td>\n",
       "      <td>0</td>\n",
       "      <td>0</td>\n",
       "      <td>0</td>\n",
       "      <td>1.0</td>\n",
       "      <td>0</td>\n",
       "      <td>0</td>\n",
       "      <td>1.0</td>\n",
       "      <td>0</td>\n",
       "      <td>0</td>\n",
       "      <td>0</td>\n",
       "    </tr>\n",
       "  </tbody>\n",
       "</table>\n",
       "<p>1 rows × 22 columns</p>\n",
       "</div>"
      ],
      "text/plain": [
       "   age  education  x0_Black  x0_Chinese  x0_Filipino  x0_Guamanian  \\\n",
       "0  0.0        0.0         0           0            0             0   \n",
       "\n",
       "   x0_Hawaiian  x0_Indian  x0_Japanese  x0_Korean  ...  x0_Vietnamese  \\\n",
       "0          1.0          0            0          0  ...              0   \n",
       "\n",
       "   x0_White  x0_other Asian or Pacific Islander  x1_F  x1_M  x2_Divorced  \\\n",
       "0         0                                   0   1.0     0            0   \n",
       "\n",
       "   x2_Married  x2_Single  x2_Unkown  x2_Widowed  \n",
       "0         1.0          0          0           0  \n",
       "\n",
       "[1 rows x 22 columns]"
      ]
     },
     "execution_count": 104,
     "metadata": {},
     "output_type": "execute_result"
    }
   ],
   "source": [
    "s = preprocessing.scale(predict_data_num)\n",
    "s = pandas.DataFrame(s, columns=features_num)\n",
    "query = pandas.concat([s, query], axis=1, sort=False)\n",
    "query.head()"
   ]
  },
  {
   "cell_type": "code",
   "execution_count": 105,
   "metadata": {},
   "outputs": [
    {
     "data": {
      "text/plain": [
       "array(['Heart Disease'], dtype='<U30')"
      ]
     },
     "execution_count": 105,
     "metadata": {},
     "output_type": "execute_result"
    }
   ],
   "source": [
    "model2.predict(query)"
   ]
  },
  {
   "cell_type": "code",
   "execution_count": null,
   "metadata": {},
   "outputs": [],
   "source": []
  },
  {
   "cell_type": "code",
   "execution_count": null,
   "metadata": {},
   "outputs": [],
   "source": []
  }
 ],
 "metadata": {
  "kernelspec": {
   "display_name": "Python 3",
   "language": "python",
   "name": "python3"
  },
  "language_info": {
   "codemirror_mode": {
    "name": "ipython",
    "version": 3
   },
   "file_extension": ".py",
   "mimetype": "text/x-python",
   "name": "python",
   "nbconvert_exporter": "python",
   "pygments_lexer": "ipython3",
   "version": "3.7.3"
  }
 },
 "nbformat": 4,
 "nbformat_minor": 2
}
